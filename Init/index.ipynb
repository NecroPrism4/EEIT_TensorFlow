{
 "cells": [
  {
   "cell_type": "code",
   "execution_count": null,
   "metadata": {},
   "outputs": [],
   "source": [
    "import tensorflow as tf\n",
    "import tensorflow.compat.v1 as tf_compat\n",
    "import tensorflow.compat.v2 as tf_v2\n",
    "\n",
    "# Enable RTensorFlow\n",
    "tf_compat.enable_eager_execution()\n",
    "\n",
    "# Create a simple TensorFlow computation\n",
    "a = tf.constant(2)\n",
    "b = tf.constant(3)\n",
    "c = tf.add(a, b)\n",
    "\n",
    "# Print the result\n",
    "print(c.numpy())\n"
   ]
  }
 ],
 "metadata": {
  "language_info": {
   "name": "python"
  }
 },
 "nbformat": 4,
 "nbformat_minor": 2
}
